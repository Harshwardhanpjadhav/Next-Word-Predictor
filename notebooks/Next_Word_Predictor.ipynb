{
  "cells": [
    {
      "cell_type": "markdown",
      "id": "93144fa5-db67-48f4-8ff3-6b7d26df3d46",
      "metadata": {
        "id": "93144fa5-db67-48f4-8ff3-6b7d26df3d46"
      },
      "source": [
        "# Get Data to train model"
      ]
    },
    {
      "cell_type": "code",
      "execution_count": null,
      "id": "c8a64e48-67e8-4466-808d-5142e122f1a9",
      "metadata": {
        "scrolled": true,
        "id": "c8a64e48-67e8-4466-808d-5142e122f1a9"
      },
      "outputs": [],
      "source": [
        "!pip install pdfplumber"
      ]
    },
    {
      "cell_type": "markdown",
      "source": [
        "# Importing Required Lib"
      ],
      "metadata": {
        "id": "E3tyuwJ81Wrg"
      },
      "id": "E3tyuwJ81Wrg"
    },
    {
      "cell_type": "code",
      "source": [
        "import pdfplumber\n",
        "from tensorflow.keras.preprocessing.text import Tokenizer\n",
        "from tensorflow.keras.preprocessing.sequence import pad_sequences\n",
        "from tensorflow.keras.models import Sequential\n",
        "from tensorflow.keras.layers import Embedding, LSTM, Dense\n",
        "import numpy as np"
      ],
      "metadata": {
        "id": "CMaiWg771VXq"
      },
      "id": "CMaiWg771VXq",
      "execution_count": null,
      "outputs": []
    },
    {
      "cell_type": "markdown",
      "source": [
        "# Extracting Text from PDF"
      ],
      "metadata": {
        "id": "K9A-BEdV1bop"
      },
      "id": "K9A-BEdV1bop"
    },
    {
      "cell_type": "code",
      "source": [
        "pdf_path = \"Path to PDF\"\n",
        "\n",
        "\n",
        "def extract_text_from_pdf(pdf_path):\n",
        "    text = \"\"\n",
        "    with pdfplumber.open(pdf_path) as pdf:\n",
        "        for page in pdf.pages:\n",
        "            text += page.extract_text() + \" \"\n",
        "    return text\n",
        "\n",
        "text = extract_text_from_pdf(pdf_path)"
      ],
      "metadata": {
        "id": "sl0Ppp7N1bbz"
      },
      "id": "sl0Ppp7N1bbz",
      "execution_count": null,
      "outputs": []
    },
    {
      "cell_type": "code",
      "source": [
        "print(text)"
      ],
      "metadata": {
        "id": "6QE_wo2_1h3h"
      },
      "id": "6QE_wo2_1h3h",
      "execution_count": null,
      "outputs": []
    },
    {
      "cell_type": "markdown",
      "source": [
        "# Preprocess The Text"
      ],
      "metadata": {
        "id": "ajNrBGgd10ln"
      },
      "id": "ajNrBGgd10ln"
    },
    {
      "cell_type": "code",
      "source": [
        "def preprocess_text(text):\n",
        "    import string\n",
        "    text = text.lower().translate(str.maketrans(\"\", \"\", string.punctuation))\n",
        "    return text\n",
        "\n",
        "text = preprocess_text(text)\n",
        "\n",
        "print(text)"
      ],
      "metadata": {
        "id": "9t6qG_Xl10d2"
      },
      "id": "9t6qG_Xl10d2",
      "execution_count": null,
      "outputs": []
    },
    {
      "cell_type": "markdown",
      "source": [
        "# Create dataset from extracted text"
      ],
      "metadata": {
        "id": "fEYyT6e12Iwe"
      },
      "id": "fEYyT6e12Iwe"
    },
    {
      "cell_type": "code",
      "source": [
        "def create_dataset(text, sequence_length=5):\n",
        "    text = preprocess_text(text)\n",
        "    words = text.split()\n",
        "    data = []\n",
        "    for i in range(len(words) - sequence_length):\n",
        "        input_seq = words[i:i + sequence_length]\n",
        "        target_word = words[i + sequence_length]\n",
        "        data.append((input_seq, target_word))\n",
        "    return data\n",
        "\n",
        "dataset = create_dataset(text)"
      ],
      "metadata": {
        "id": "WvWelzb32Kk8"
      },
      "id": "WvWelzb32Kk8",
      "execution_count": null,
      "outputs": []
    },
    {
      "cell_type": "code",
      "source": [
        "dataset"
      ],
      "metadata": {
        "id": "Tii4-dv13cv0"
      },
      "id": "Tii4-dv13cv0",
      "execution_count": null,
      "outputs": []
    },
    {
      "cell_type": "markdown",
      "source": [
        "# Tokenize text and create input sequences"
      ],
      "metadata": {
        "id": "11dR08d32QgG"
      },
      "id": "11dR08d32QgG"
    },
    {
      "cell_type": "code",
      "source": [
        "tokenizer = Tokenizer()\n",
        "tokenizer.fit_on_texts([\" \".join(seq[0]) for seq in dataset])  # Fit on input sequences only\n",
        "vocab_size = len(tokenizer.word_index) + 1"
      ],
      "metadata": {
        "id": "Q02MIubC2R_t"
      },
      "id": "Q02MIubC2R_t",
      "execution_count": null,
      "outputs": []
    },
    {
      "cell_type": "code",
      "source": [
        "vocab_size"
      ],
      "metadata": {
        "colab": {
          "base_uri": "https://localhost:8080/"
        },
        "id": "N3dS-oMY2WTa",
        "outputId": "a458ed2a-849d-4c01-b7e7-95deeb4f826a"
      },
      "id": "N3dS-oMY2WTa",
      "execution_count": null,
      "outputs": [
        {
          "output_type": "execute_result",
          "data": {
            "text/plain": [
              "2003"
            ]
          },
          "metadata": {},
          "execution_count": 47
        }
      ]
    },
    {
      "cell_type": "markdown",
      "source": [
        "# Generate input sequences and targets"
      ],
      "metadata": {
        "id": "n3p-4YDd2dWE"
      },
      "id": "n3p-4YDd2dWE"
    },
    {
      "cell_type": "code",
      "source": [
        "input_sequences = []\n",
        "target_words = []\n",
        "for input_seq, target_word in dataset:\n",
        "    tokenized_input_seq = tokenizer.texts_to_sequences([\" \".join(input_seq)])[0]\n",
        "    tokenized_target = tokenizer.texts_to_sequences([target_word])[0]\n",
        "    input_sequences.append(tokenized_input_seq)\n",
        "    target_words.append(tokenized_target[0])"
      ],
      "metadata": {
        "id": "zTL5SUNZ2f2P"
      },
      "id": "zTL5SUNZ2f2P",
      "execution_count": null,
      "outputs": []
    },
    {
      "cell_type": "code",
      "source": [
        "# target_words"
      ],
      "metadata": {
        "collapsed": true,
        "id": "a9XGWauJ2hXg"
      },
      "id": "a9XGWauJ2hXg",
      "execution_count": null,
      "outputs": []
    },
    {
      "cell_type": "markdown",
      "source": [
        "# Pad sequences"
      ],
      "metadata": {
        "id": "0IWcMsd52peM"
      },
      "id": "0IWcMsd52peM"
    },
    {
      "cell_type": "code",
      "source": [
        "max_sequence_len = max([len(seq) for seq in input_sequences])\n",
        "input_sequences = pad_sequences(input_sequences, maxlen=max_sequence_len, padding='pre')\n",
        "target_words = np.array(target_words)"
      ],
      "metadata": {
        "id": "YLxa9BCv2sJq"
      },
      "id": "YLxa9BCv2sJq",
      "execution_count": null,
      "outputs": []
    },
    {
      "cell_type": "code",
      "source": [
        "input_sequences"
      ],
      "metadata": {
        "colab": {
          "base_uri": "https://localhost:8080/"
        },
        "id": "ES_K5cZh2tv0",
        "outputId": "572167a2-4727-48bb-e22c-a42d39c28da1"
      },
      "id": "ES_K5cZh2tv0",
      "execution_count": null,
      "outputs": [
        {
          "output_type": "execute_result",
          "data": {
            "text/plain": [
              "array([[2001,    9, 1035,  702,  335],\n",
              "       [   9, 1035,  702,  335,  336],\n",
              "       [1035,  702,  335,  336,  527],\n",
              "       ...,\n",
              "       [  48, 1998, 1999,  334,    2],\n",
              "       [1998, 1999,  334,    2, 2000],\n",
              "       [1999,  334,    2, 2000, 2002]], dtype=int32)"
            ]
          },
          "metadata": {},
          "execution_count": 52
        }
      ]
    },
    {
      "cell_type": "markdown",
      "source": [
        "# One-hot encode target variable"
      ],
      "metadata": {
        "id": "ZsKF_fvk2zWn"
      },
      "id": "ZsKF_fvk2zWn"
    },
    {
      "cell_type": "code",
      "source": [
        "y = np.eye(vocab_size)[target_words]"
      ],
      "metadata": {
        "id": "HObpSWTl2y0-"
      },
      "id": "HObpSWTl2y0-",
      "execution_count": null,
      "outputs": []
    },
    {
      "cell_type": "code",
      "source": [
        "y.shape"
      ],
      "metadata": {
        "colab": {
          "base_uri": "https://localhost:8080/"
        },
        "id": "XlUUXsQK31U6",
        "outputId": "7074bc9b-6276-4a9d-c293-416413b8b204"
      },
      "id": "XlUUXsQK31U6",
      "execution_count": null,
      "outputs": [
        {
          "output_type": "execute_result",
          "data": {
            "text/plain": [
              "(11421, 2003)"
            ]
          },
          "metadata": {},
          "execution_count": 54
        }
      ]
    },
    {
      "cell_type": "markdown",
      "source": [
        "# Build and train the LSTM model"
      ],
      "metadata": {
        "id": "mhmTFnLL24Fh"
      },
      "id": "mhmTFnLL24Fh"
    },
    {
      "cell_type": "code",
      "source": [
        "embedding_dim = 2003\n",
        "\n",
        "model = Sequential([\n",
        "    Embedding(vocab_size, embedding_dim, input_length=max_sequence_len),\n",
        "    LSTM(500, return_sequences=True),\n",
        "    LSTM(500),\n",
        "    Dense(vocab_size, activation='softmax')\n",
        "])\n",
        "\n",
        "model.compile(loss='categorical_crossentropy', optimizer='adam', metrics=['accuracy'])\n",
        "\n",
        "\n",
        "model.fit(input_sequences, y, epochs=30, verbose=1)"
      ],
      "metadata": {
        "colab": {
          "base_uri": "https://localhost:8080/"
        },
        "id": "8dF2GYAy27N2",
        "outputId": "fa69e3ec-fb2d-4fd7-ece6-24f8a6269d2c"
      },
      "id": "8dF2GYAy27N2",
      "execution_count": null,
      "outputs": [
        {
          "output_type": "stream",
          "name": "stderr",
          "text": [
            "/usr/local/lib/python3.10/dist-packages/keras/src/layers/core/embedding.py:90: UserWarning: Argument `input_length` is deprecated. Just remove it.\n",
            "  warnings.warn(\n"
          ]
        },
        {
          "output_type": "stream",
          "name": "stdout",
          "text": [
            "Epoch 1/30\n",
            "\u001b[1m357/357\u001b[0m \u001b[32m━━━━━━━━━━━━━━━━━━━━\u001b[0m\u001b[37m\u001b[0m \u001b[1m8s\u001b[0m 16ms/step - accuracy: 0.0510 - loss: 6.6531\n",
            "Epoch 2/30\n",
            "\u001b[1m357/357\u001b[0m \u001b[32m━━━━━━━━━━━━━━━━━━━━\u001b[0m\u001b[37m\u001b[0m \u001b[1m5s\u001b[0m 15ms/step - accuracy: 0.0667 - loss: 5.9815\n",
            "Epoch 3/30\n",
            "\u001b[1m357/357\u001b[0m \u001b[32m━━━━━━━━━━━━━━━━━━━━\u001b[0m\u001b[37m\u001b[0m \u001b[1m10s\u001b[0m 15ms/step - accuracy: 0.0963 - loss: 5.5901\n",
            "Epoch 4/30\n",
            "\u001b[1m357/357\u001b[0m \u001b[32m━━━━━━━━━━━━━━━━━━━━\u001b[0m\u001b[37m\u001b[0m \u001b[1m10s\u001b[0m 15ms/step - accuracy: 0.1363 - loss: 5.0723\n",
            "Epoch 5/30\n",
            "\u001b[1m357/357\u001b[0m \u001b[32m━━━━━━━━━━━━━━━━━━━━\u001b[0m\u001b[37m\u001b[0m \u001b[1m10s\u001b[0m 16ms/step - accuracy: 0.1961 - loss: 4.4053\n",
            "Epoch 6/30\n",
            "\u001b[1m357/357\u001b[0m \u001b[32m━━━━━━━━━━━━━━━━━━━━\u001b[0m\u001b[37m\u001b[0m \u001b[1m10s\u001b[0m 16ms/step - accuracy: 0.2656 - loss: 3.6893\n",
            "Epoch 7/30\n",
            "\u001b[1m357/357\u001b[0m \u001b[32m━━━━━━━━━━━━━━━━━━━━\u001b[0m\u001b[37m\u001b[0m \u001b[1m5s\u001b[0m 15ms/step - accuracy: 0.3911 - loss: 2.8639\n",
            "Epoch 8/30\n",
            "\u001b[1m357/357\u001b[0m \u001b[32m━━━━━━━━━━━━━━━━━━━━\u001b[0m\u001b[37m\u001b[0m \u001b[1m10s\u001b[0m 15ms/step - accuracy: 0.5600 - loss: 2.0513\n",
            "Epoch 9/30\n",
            "\u001b[1m357/357\u001b[0m \u001b[32m━━━━━━━━━━━━━━━━━━━━\u001b[0m\u001b[37m\u001b[0m \u001b[1m5s\u001b[0m 15ms/step - accuracy: 0.7451 - loss: 1.3062\n",
            "Epoch 10/30\n",
            "\u001b[1m357/357\u001b[0m \u001b[32m━━━━━━━━━━━━━━━━━━━━\u001b[0m\u001b[37m\u001b[0m \u001b[1m10s\u001b[0m 15ms/step - accuracy: 0.8750 - loss: 0.7493\n",
            "Epoch 11/30\n",
            "\u001b[1m357/357\u001b[0m \u001b[32m━━━━━━━━━━━━━━━━━━━━\u001b[0m\u001b[37m\u001b[0m \u001b[1m6s\u001b[0m 16ms/step - accuracy: 0.9523 - loss: 0.3834\n",
            "Epoch 12/30\n",
            "\u001b[1m357/357\u001b[0m \u001b[32m━━━━━━━━━━━━━━━━━━━━\u001b[0m\u001b[37m\u001b[0m \u001b[1m5s\u001b[0m 15ms/step - accuracy: 0.9743 - loss: 0.2039\n",
            "Epoch 13/30\n",
            "\u001b[1m357/357\u001b[0m \u001b[32m━━━━━━━━━━━━━━━━━━━━\u001b[0m\u001b[37m\u001b[0m \u001b[1m10s\u001b[0m 15ms/step - accuracy: 0.9776 - loss: 0.1352\n",
            "Epoch 14/30\n",
            "\u001b[1m357/357\u001b[0m \u001b[32m━━━━━━━━━━━━━━━━━━━━\u001b[0m\u001b[37m\u001b[0m \u001b[1m11s\u001b[0m 16ms/step - accuracy: 0.9803 - loss: 0.1004\n",
            "Epoch 15/30\n",
            "\u001b[1m357/357\u001b[0m \u001b[32m━━━━━━━━━━━━━━━━━━━━\u001b[0m\u001b[37m\u001b[0m \u001b[1m10s\u001b[0m 16ms/step - accuracy: 0.9850 - loss: 0.0794\n",
            "Epoch 16/30\n",
            "\u001b[1m357/357\u001b[0m \u001b[32m━━━━━━━━━━━━━━━━━━━━\u001b[0m\u001b[37m\u001b[0m \u001b[1m10s\u001b[0m 15ms/step - accuracy: 0.9837 - loss: 0.0692\n",
            "Epoch 17/30\n",
            "\u001b[1m357/357\u001b[0m \u001b[32m━━━━━━━━━━━━━━━━━━━━\u001b[0m\u001b[37m\u001b[0m \u001b[1m6s\u001b[0m 15ms/step - accuracy: 0.9828 - loss: 0.0697\n",
            "Epoch 18/30\n",
            "\u001b[1m357/357\u001b[0m \u001b[32m━━━━━━━━━━━━━━━━━━━━\u001b[0m\u001b[37m\u001b[0m \u001b[1m10s\u001b[0m 16ms/step - accuracy: 0.9854 - loss: 0.0565\n",
            "Epoch 19/30\n",
            "\u001b[1m357/357\u001b[0m \u001b[32m━━━━━━━━━━━━━━━━━━━━\u001b[0m\u001b[37m\u001b[0m \u001b[1m10s\u001b[0m 16ms/step - accuracy: 0.9854 - loss: 0.0530\n",
            "Epoch 20/30\n",
            "\u001b[1m357/357\u001b[0m \u001b[32m━━━━━━━━━━━━━━━━━━━━\u001b[0m\u001b[37m\u001b[0m \u001b[1m5s\u001b[0m 15ms/step - accuracy: 0.9853 - loss: 0.0571\n",
            "Epoch 21/30\n",
            "\u001b[1m357/357\u001b[0m \u001b[32m━━━━━━━━━━━━━━━━━━━━\u001b[0m\u001b[37m\u001b[0m \u001b[1m10s\u001b[0m 16ms/step - accuracy: 0.9831 - loss: 0.0659\n",
            "Epoch 22/30\n",
            "\u001b[1m357/357\u001b[0m \u001b[32m━━━━━━━━━━━━━━━━━━━━\u001b[0m\u001b[37m\u001b[0m \u001b[1m5s\u001b[0m 15ms/step - accuracy: 0.9845 - loss: 0.0625\n",
            "Epoch 23/30\n",
            "\u001b[1m357/357\u001b[0m \u001b[32m━━━━━━━━━━━━━━━━━━━━\u001b[0m\u001b[37m\u001b[0m \u001b[1m6s\u001b[0m 16ms/step - accuracy: 0.8897 - loss: 0.4922\n",
            "Epoch 24/30\n",
            "\u001b[1m357/357\u001b[0m \u001b[32m━━━━━━━━━━━━━━━━━━━━\u001b[0m\u001b[37m\u001b[0m \u001b[1m5s\u001b[0m 15ms/step - accuracy: 0.9634 - loss: 0.1713\n",
            "Epoch 25/30\n",
            "\u001b[1m357/357\u001b[0m \u001b[32m━━━━━━━━━━━━━━━━━━━━\u001b[0m\u001b[37m\u001b[0m \u001b[1m6s\u001b[0m 15ms/step - accuracy: 0.9808 - loss: 0.0698\n",
            "Epoch 26/30\n",
            "\u001b[1m357/357\u001b[0m \u001b[32m━━━━━━━━━━━━━━━━━━━━\u001b[0m\u001b[37m\u001b[0m \u001b[1m5s\u001b[0m 15ms/step - accuracy: 0.9834 - loss: 0.0520\n",
            "Epoch 27/30\n",
            "\u001b[1m357/357\u001b[0m \u001b[32m━━━━━━━━━━━━━━━━━━━━\u001b[0m\u001b[37m\u001b[0m \u001b[1m10s\u001b[0m 16ms/step - accuracy: 0.9842 - loss: 0.0462\n",
            "Epoch 28/30\n",
            "\u001b[1m357/357\u001b[0m \u001b[32m━━━━━━━━━━━━━━━━━━━━\u001b[0m\u001b[37m\u001b[0m \u001b[1m5s\u001b[0m 15ms/step - accuracy: 0.9852 - loss: 0.0402\n",
            "Epoch 29/30\n",
            "\u001b[1m357/357\u001b[0m \u001b[32m━━━━━━━━━━━━━━━━━━━━\u001b[0m\u001b[37m\u001b[0m \u001b[1m10s\u001b[0m 15ms/step - accuracy: 0.9822 - loss: 0.0458\n",
            "Epoch 30/30\n",
            "\u001b[1m357/357\u001b[0m \u001b[32m━━━━━━━━━━━━━━━━━━━━\u001b[0m\u001b[37m\u001b[0m \u001b[1m6s\u001b[0m 15ms/step - accuracy: 0.9845 - loss: 0.0378\n"
          ]
        },
        {
          "output_type": "execute_result",
          "data": {
            "text/plain": [
              "<keras.src.callbacks.history.History at 0x79e1a0356ef0>"
            ]
          },
          "metadata": {},
          "execution_count": 55
        }
      ]
    },
    {
      "cell_type": "markdown",
      "source": [
        "# Save the model"
      ],
      "metadata": {
        "id": "JmnCZ_TY2-fw"
      },
      "id": "JmnCZ_TY2-fw"
    },
    {
      "cell_type": "code",
      "source": [
        "model.save('pdf_next_word_predictor.h5')"
      ],
      "metadata": {
        "id": "HsRA1Rnh3Awl"
      },
      "id": "HsRA1Rnh3Awl",
      "execution_count": null,
      "outputs": []
    },
    {
      "cell_type": "markdown",
      "source": [
        "# Generate text"
      ],
      "metadata": {
        "id": "zCCmy0KX3B45"
      },
      "id": "zCCmy0KX3B45"
    },
    {
      "cell_type": "code",
      "source": [
        "def generate_text(seed_text, next_words=5):\n",
        "    for _ in range(next_words):\n",
        "        token_list = tokenizer.texts_to_sequences([seed_text])[0]\n",
        "        token_list = pad_sequences([token_list], maxlen=max_sequence_len, padding='pre')\n",
        "        predicted = model.predict(token_list, verbose=0)\n",
        "        predicted_word_index = np.argmax(predicted, axis=-1)[0]\n",
        "\n",
        "        for word, index in tokenizer.word_index.items():\n",
        "            if index == predicted_word_index:\n",
        "                seed_text += \" \" + word\n",
        "                break\n",
        "    return seed_text"
      ],
      "metadata": {
        "id": "sFK57rUIwO4I"
      },
      "id": "sFK57rUIwO4I",
      "execution_count": null,
      "outputs": []
    },
    {
      "cell_type": "code",
      "source": [
        "seed_text = \"You both peered into\"\n",
        "generated_text = generate_text(seed_text, next_words=15)\n",
        "print(\"Generated text:\", generated_text)"
      ],
      "metadata": {
        "colab": {
          "base_uri": "https://localhost:8080/"
        },
        "id": "HY8ifApRwxj9",
        "outputId": "d299c998-43e2-41f3-b805-e4186ec48223"
      },
      "id": "HY8ifApRwxj9",
      "execution_count": null,
      "outputs": [
        {
          "output_type": "stream",
          "name": "stdout",
          "text": [
            "Generated text: You both peered into the cage and you could see that the cat was holding the canary in its\n"
          ]
        }
      ]
    },
    {
      "cell_type": "code",
      "source": [],
      "metadata": {
        "id": "gCcTThR4NbXh"
      },
      "id": "gCcTThR4NbXh",
      "execution_count": null,
      "outputs": []
    }
  ],
  "metadata": {
    "kernelspec": {
      "display_name": "Python 3",
      "name": "python3"
    },
    "language_info": {
      "codemirror_mode": {
        "name": "ipython",
        "version": 3
      },
      "file_extension": ".py",
      "mimetype": "text/x-python",
      "name": "python",
      "nbconvert_exporter": "python",
      "pygments_lexer": "ipython3",
      "version": "3.10.12"
    },
    "colab": {
      "provenance": [],
      "gpuType": "T4"
    },
    "accelerator": "GPU"
  },
  "nbformat": 4,
  "nbformat_minor": 5
}